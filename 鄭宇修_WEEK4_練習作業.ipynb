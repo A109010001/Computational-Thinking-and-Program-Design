{
  "nbformat": 4,
  "nbformat_minor": 0,
  "metadata": {
    "colab": {
      "name": "鄭宇修-WEEK4-練習作業.ipynb",
      "provenance": [],
      "authorship_tag": "ABX9TyNQB/t1cowDew5K8Kp5WX0O",
      "include_colab_link": true
    },
    "kernelspec": {
      "name": "python3",
      "display_name": "Python 3"
    }
  },
  "cells": [
    {
      "cell_type": "markdown",
      "metadata": {
        "id": "view-in-github",
        "colab_type": "text"
      },
      "source": [
        "<a href=\"https://colab.research.google.com/github/A109010001/Computational-Thinking-and-Program-Design/blob/main/%E9%84%AD%E5%AE%87%E4%BF%AE_WEEK4_%E7%B7%B4%E7%BF%92%E4%BD%9C%E6%A5%AD.ipynb\" target=\"_parent\"><img src=\"https://colab.research.google.com/assets/colab-badge.svg\" alt=\"Open In Colab\"/></a>"
      ]
    },
    {
      "cell_type": "markdown",
      "metadata": {
        "id": "-W9f-IjjYiWT"
      },
      "source": [
        "#隨堂練習"
      ]
    },
    {
      "cell_type": "markdown",
      "metadata": {
        "id": "BBk9RuHFY0YA"
      },
      "source": [
        "#課後練習"
      ]
    },
    {
      "cell_type": "markdown",
      "metadata": {
        "id": "b7iOfwjlY26H"
      },
      "source": [
        "### 從一則新聞報導，提出你對新聞系(00系)學生為什麼要學「運算思維與程式設計」的見解。(告訴我新聞連結，以及你的觀點即可)\n",
        "https://udn.com/news/story/6928/4665450\n",
        "\n",
        "近年來因為人工智慧日新月異，台灣許多大專院校為了培養學生具備除了本科系相關以外的技能，將學校課程進行一系列的改造。在這則報導指出，除了現在的新雙語課程，現在崛起的運算思維與程式設計也成為大專院校生必修的課程之一。我現在就讀的新聞系也有這門課，我認為雖然不是跟我本科系相關的課程，但在現今這個到處都是新科技的世代，能學習這項技能對我來說也是有益無害。"
      ]
    }
  ]
}